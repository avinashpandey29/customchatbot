{
 "cells": [
  {
   "cell_type": "code",
   "id": "initial_id",
   "metadata": {
    "collapsed": true,
    "ExecuteTime": {
     "end_time": "2024-06-11T15:37:20.243247Z",
     "start_time": "2024-06-11T15:37:19.888535Z"
    }
   },
   "source": [
    "#!pip install openai\n",
    "#!pip install langchain\n",
    "!#pip install elasticsearch\n",
    "\n",
    "\n",
    "import requests\n",
    "import numpy as np"
   ],
   "outputs": [],
   "execution_count": 1
  },
  {
   "metadata": {
    "ExecuteTime": {
     "end_time": "2024-06-11T15:38:27.083584Z",
     "start_time": "2024-06-11T15:38:25.610915Z"
    }
   },
   "cell_type": "code",
   "source": [
    "import openai\n",
    "\n",
    "openai.api_key = '',
    "\n",
    "def generate_response(prompt):\n",
    "    response = openai.completions.create(\n",
    "        model=\"gpt-3.5-turbo-instruct\",\n",
    "        prompt=prompt,\n",
    "        max_tokens=150\n",
    "    )\n",
    "    \n",
    "    print(response)\n",
    "    return response.choices[0].text.strip()\n",
    "\n",
    "prompt = \"I love you gpt\"\n",
    "print(generate_response(prompt))\n",
    "\n"
   ],
   "id": "a313d0785f9caf9",
   "outputs": [
    {
     "name": "stdout",
     "output_type": "stream",
     "text": [
      "Completion(id='cmpl-9Yxrm7gmTlcAX4KiwAtTCrcQgRJem', choices=[CompletionChoice(finish_reason='stop', index=0, logprobs=None, text='\\n\\nI love you too! I am just a computer program, but I appreciate your kind words. Is there anything else I can help you with?')], created=1718120306, model='gpt-3.5-turbo-instruct', object='text_completion', system_fingerprint=None, usage=CompletionUsage(completion_tokens=30, prompt_tokens=5, total_tokens=35))\n",
      "I love you too! I am just a computer program, but I appreciate your kind words. Is there anything else I can help you with?\n"
     ]
    }
   ],
   "execution_count": 2
  },
  {
   "metadata": {
    "ExecuteTime": {
     "end_time": "2024-06-11T15:39:20.568873Z",
     "start_time": "2024-06-11T15:39:18.911611Z"
    }
   },
   "cell_type": "code",
   "source": [
    "ukraine_prompt = \"\"\"\n",
    "Question: \"When did Russia invade Ukraine?\"\n",
    "Answer:\n",
    "\"\"\"\n",
    "\n",
    "\n",
    "initial_ukraine_answer = openai.completions.create(\n",
    "    model=\"gpt-3.5-turbo-instruct\",\n",
    "    prompt=ukraine_prompt,\n",
    "    max_tokens=150\n",
    ")"
   ],
   "id": "2ff91576406050cc",
   "outputs": [],
   "execution_count": 3
  },
  {
   "metadata": {
    "ExecuteTime": {
     "end_time": "2024-06-11T15:39:31.465197Z",
     "start_time": "2024-06-11T15:39:31.462832Z"
    }
   },
   "cell_type": "code",
   "source": "print(initial_ukraine_answer)",
   "id": "91e6993fea4b1fe",
   "outputs": [
    {
     "name": "stdout",
     "output_type": "stream",
     "text": [
      "Completion(id='cmpl-9Yxsd9yBVEIX2PZdj3889N5DuI28T', choices=[CompletionChoice(finish_reason='stop', index=0, logprobs=None, text='\\nRussia first invaded Ukraine in February 2014, when Russian troops occupied Crimea and annexed it in March of that year. The conflict in Eastern Ukraine began in April 2014 when pro-Russian separatists seized government buildings in Donetsk and Luhansk. Russia has denied direct involvement in this conflict, despite evidence of Russian military equipment and personnel supporting the separatists. Fighting in Eastern Ukraine is ongoing, with multiple ceasefires being negotiated but ultimately failing.')], created=1718120359, model='gpt-3.5-turbo-instruct', object='text_completion', system_fingerprint=None, usage=CompletionUsage(completion_tokens=91, prompt_tokens=12, total_tokens=103))\n"
     ]
    }
   ],
   "execution_count": 4
  },
  {
   "metadata": {
    "ExecuteTime": {
     "end_time": "2024-06-11T15:40:13.265674Z",
     "start_time": "2024-06-11T15:40:12.556551Z"
    }
   },
   "cell_type": "code",
   "source": [
    "# Get the Wikipedia page for \"2022\" since OpenAI's models stop in 2021\n",
    "resp = requests.get(\"https://en.wikipedia.org/w/api.php?action=query&prop=extracts&exlimit=1&titles=2022&explaintext=1&formatversion=2&format=json\")\n"
   ],
   "id": "972f939c301e7c7c",
   "outputs": [],
   "execution_count": 5
  },
  {
   "metadata": {
    "ExecuteTime": {
     "end_time": "2024-06-11T15:40:22.839651Z",
     "start_time": "2024-06-11T15:40:22.430340Z"
    }
   },
   "cell_type": "code",
   "source": [
    "# Load page text into a dataframe\n",
    "import pandas as pd\n",
    "df = pd.DataFrame()"
   ],
   "id": "f366b3f199c95ccf",
   "outputs": [],
   "execution_count": 6
  },
  {
   "metadata": {
    "ExecuteTime": {
     "end_time": "2024-06-11T15:41:03.611985Z",
     "start_time": "2024-06-11T15:41:03.606646Z"
    }
   },
   "cell_type": "code",
   "source": "df[\"text\"] = resp.json()[\"query\"][\"pages\"][0][\"extract\"].split(\"\\n\")",
   "id": "feccc48c4200742a",
   "outputs": [],
   "execution_count": 7
  },
  {
   "metadata": {
    "ExecuteTime": {
     "end_time": "2024-06-11T15:41:12.388563Z",
     "start_time": "2024-06-11T15:41:12.382223Z"
    }
   },
   "cell_type": "code",
   "source": "df.head(20)",
   "id": "b745e6efef7df274",
   "outputs": [
    {
     "data": {
      "text/plain": [
       "                                                 text\n",
       "0   2022 (MMXXII) was a common year starting on Sa...\n",
       "1   The year saw the removal of nearly all COVID-1...\n",
       "2   2022 was also dominated by wars and armed conf...\n",
       "3                                                    \n",
       "4                                                    \n",
       "5                                        == Events ==\n",
       "6                                                    \n",
       "7                                                    \n",
       "8                                     === January ===\n",
       "9    January 1 – The Regional Comprehensive Econom...\n",
       "10  January 2 – Abdalla Hamdok resigns as Prime Mi...\n",
       "11  January 4 – The five permanent members of the ...\n",
       "12  January 5 – A nationwide state of emergency is...\n",
       "13  January 6 – The CSTO deploys a \"peacekeeping\" ...\n",
       "14  January 7 – COVID-19 pandemic: The number of C...\n",
       "15  January 9 – February 6 – The 2021 Africa Cup o...\n",
       "16  January 10 – The first successful heart transp...\n",
       "17  January 15 – A large eruption of Hunga Tonga–H...\n",
       "18  January 16 – World No. 1 tennis champion Novak...\n",
       "19                                         January 23"
      ],
      "text/html": [
       "<div>\n",
       "<style scoped>\n",
       "    .dataframe tbody tr th:only-of-type {\n",
       "        vertical-align: middle;\n",
       "    }\n",
       "\n",
       "    .dataframe tbody tr th {\n",
       "        vertical-align: top;\n",
       "    }\n",
       "\n",
       "    .dataframe thead th {\n",
       "        text-align: right;\n",
       "    }\n",
       "</style>\n",
       "<table border=\"1\" class=\"dataframe\">\n",
       "  <thead>\n",
       "    <tr style=\"text-align: right;\">\n",
       "      <th></th>\n",
       "      <th>text</th>\n",
       "    </tr>\n",
       "  </thead>\n",
       "  <tbody>\n",
       "    <tr>\n",
       "      <th>0</th>\n",
       "      <td>2022 (MMXXII) was a common year starting on Sa...</td>\n",
       "    </tr>\n",
       "    <tr>\n",
       "      <th>1</th>\n",
       "      <td>The year saw the removal of nearly all COVID-1...</td>\n",
       "    </tr>\n",
       "    <tr>\n",
       "      <th>2</th>\n",
       "      <td>2022 was also dominated by wars and armed conf...</td>\n",
       "    </tr>\n",
       "    <tr>\n",
       "      <th>3</th>\n",
       "      <td></td>\n",
       "    </tr>\n",
       "    <tr>\n",
       "      <th>4</th>\n",
       "      <td></td>\n",
       "    </tr>\n",
       "    <tr>\n",
       "      <th>5</th>\n",
       "      <td>== Events ==</td>\n",
       "    </tr>\n",
       "    <tr>\n",
       "      <th>6</th>\n",
       "      <td></td>\n",
       "    </tr>\n",
       "    <tr>\n",
       "      <th>7</th>\n",
       "      <td></td>\n",
       "    </tr>\n",
       "    <tr>\n",
       "      <th>8</th>\n",
       "      <td>=== January ===</td>\n",
       "    </tr>\n",
       "    <tr>\n",
       "      <th>9</th>\n",
       "      <td>January 1 – The Regional Comprehensive Econom...</td>\n",
       "    </tr>\n",
       "    <tr>\n",
       "      <th>10</th>\n",
       "      <td>January 2 – Abdalla Hamdok resigns as Prime Mi...</td>\n",
       "    </tr>\n",
       "    <tr>\n",
       "      <th>11</th>\n",
       "      <td>January 4 – The five permanent members of the ...</td>\n",
       "    </tr>\n",
       "    <tr>\n",
       "      <th>12</th>\n",
       "      <td>January 5 – A nationwide state of emergency is...</td>\n",
       "    </tr>\n",
       "    <tr>\n",
       "      <th>13</th>\n",
       "      <td>January 6 – The CSTO deploys a \"peacekeeping\" ...</td>\n",
       "    </tr>\n",
       "    <tr>\n",
       "      <th>14</th>\n",
       "      <td>January 7 – COVID-19 pandemic: The number of C...</td>\n",
       "    </tr>\n",
       "    <tr>\n",
       "      <th>15</th>\n",
       "      <td>January 9 – February 6 – The 2021 Africa Cup o...</td>\n",
       "    </tr>\n",
       "    <tr>\n",
       "      <th>16</th>\n",
       "      <td>January 10 – The first successful heart transp...</td>\n",
       "    </tr>\n",
       "    <tr>\n",
       "      <th>17</th>\n",
       "      <td>January 15 – A large eruption of Hunga Tonga–H...</td>\n",
       "    </tr>\n",
       "    <tr>\n",
       "      <th>18</th>\n",
       "      <td>January 16 – World No. 1 tennis champion Novak...</td>\n",
       "    </tr>\n",
       "    <tr>\n",
       "      <th>19</th>\n",
       "      <td>January 23</td>\n",
       "    </tr>\n",
       "  </tbody>\n",
       "</table>\n",
       "</div>"
      ]
     },
     "execution_count": 8,
     "metadata": {},
     "output_type": "execute_result"
    }
   ],
   "execution_count": 8
  },
  {
   "metadata": {
    "ExecuteTime": {
     "end_time": "2024-06-11T15:42:03.805834Z",
     "start_time": "2024-06-11T15:42:03.802740Z"
    }
   },
   "cell_type": "code",
   "source": [
    "# Clean up text to remove empty lines and headings\n",
    "df = df[(df[\"text\"].str.len() > 0) & (~df[\"text\"].str.startswith(\"==\"))]"
   ],
   "id": "3d1ba67a1af3d88c",
   "outputs": [],
   "execution_count": 9
  },
  {
   "metadata": {
    "ExecuteTime": {
     "end_time": "2024-06-11T15:42:38.037474Z",
     "start_time": "2024-06-11T15:42:38.029772Z"
    }
   },
   "cell_type": "code",
   "source": [
    "# In some cases dates are used as headings instead of being part of the\n",
    "# text sample; adjust so dated text samples start with dates\n",
    "prefix = \"\"\n",
    "for (i, row) in df.iterrows():\n",
    "    # If the row already has \" - \", it already has the needed date prefix\n",
    "    if \" – \" not in row[\"text\"]:\n",
    "        try:\n",
    "            # If the row's text is a date, set it as the new prefix\n",
    "            parse(row[\"text\"])\n",
    "            prefix = row[\"text\"]\n",
    "        except:\n",
    "            # If the row's text isn't a date, add the prefix\n",
    "            row[\"text\"] = prefix + \" – \" + row[\"text\"]\n",
    "df = df[df[\"text\"].str.contains(\" – \")]\n",
    "df"
   ],
   "id": "c169ceff31218c5e",
   "outputs": [
    {
     "data": {
      "text/plain": [
       "                                                  text\n",
       "0     – 2022 (MMXXII) was a common year starting on...\n",
       "1     – The year saw the removal of nearly all COVI...\n",
       "2     – 2022 was also dominated by wars and armed c...\n",
       "9     January 1 – The Regional Comprehensive Econom...\n",
       "10   January 2 – Abdalla Hamdok resigns as Prime Mi...\n",
       "..                                                 ...\n",
       "241  December 21–December 26 – A major winter storm...\n",
       "242  December 24 – 2022 Fijian general election: Th...\n",
       "243  December 29 – Brazilian football legend Pelé d...\n",
       "244  December 31 – Former Pope Benedict XVI dies at...\n",
       "248   – The world population was estimated to have ...\n",
       "\n",
       "[207 rows x 1 columns]"
      ],
      "text/html": [
       "<div>\n",
       "<style scoped>\n",
       "    .dataframe tbody tr th:only-of-type {\n",
       "        vertical-align: middle;\n",
       "    }\n",
       "\n",
       "    .dataframe tbody tr th {\n",
       "        vertical-align: top;\n",
       "    }\n",
       "\n",
       "    .dataframe thead th {\n",
       "        text-align: right;\n",
       "    }\n",
       "</style>\n",
       "<table border=\"1\" class=\"dataframe\">\n",
       "  <thead>\n",
       "    <tr style=\"text-align: right;\">\n",
       "      <th></th>\n",
       "      <th>text</th>\n",
       "    </tr>\n",
       "  </thead>\n",
       "  <tbody>\n",
       "    <tr>\n",
       "      <th>0</th>\n",
       "      <td>– 2022 (MMXXII) was a common year starting on...</td>\n",
       "    </tr>\n",
       "    <tr>\n",
       "      <th>1</th>\n",
       "      <td>– The year saw the removal of nearly all COVI...</td>\n",
       "    </tr>\n",
       "    <tr>\n",
       "      <th>2</th>\n",
       "      <td>– 2022 was also dominated by wars and armed c...</td>\n",
       "    </tr>\n",
       "    <tr>\n",
       "      <th>9</th>\n",
       "      <td>January 1 – The Regional Comprehensive Econom...</td>\n",
       "    </tr>\n",
       "    <tr>\n",
       "      <th>10</th>\n",
       "      <td>January 2 – Abdalla Hamdok resigns as Prime Mi...</td>\n",
       "    </tr>\n",
       "    <tr>\n",
       "      <th>...</th>\n",
       "      <td>...</td>\n",
       "    </tr>\n",
       "    <tr>\n",
       "      <th>241</th>\n",
       "      <td>December 21–December 26 – A major winter storm...</td>\n",
       "    </tr>\n",
       "    <tr>\n",
       "      <th>242</th>\n",
       "      <td>December 24 – 2022 Fijian general election: Th...</td>\n",
       "    </tr>\n",
       "    <tr>\n",
       "      <th>243</th>\n",
       "      <td>December 29 – Brazilian football legend Pelé d...</td>\n",
       "    </tr>\n",
       "    <tr>\n",
       "      <th>244</th>\n",
       "      <td>December 31 – Former Pope Benedict XVI dies at...</td>\n",
       "    </tr>\n",
       "    <tr>\n",
       "      <th>248</th>\n",
       "      <td>– The world population was estimated to have ...</td>\n",
       "    </tr>\n",
       "  </tbody>\n",
       "</table>\n",
       "<p>207 rows × 1 columns</p>\n",
       "</div>"
      ]
     },
     "execution_count": 10,
     "metadata": {},
     "output_type": "execute_result"
    }
   ],
   "execution_count": 10
  },
  {
   "metadata": {
    "ExecuteTime": {
     "end_time": "2024-06-11T15:45:25.829677Z",
     "start_time": "2024-06-11T15:43:40.795908Z"
    }
   },
   "cell_type": "code",
   "source": [
    "from openai import OpenAI\n",
    "#client = OpenAI()\n",
    "\n",
    "def get_embedding(text, model=\"text-embedding-3-small\"):\n",
    "   text = text.replace(\"\\n\", \" \")\n",
    "   return openai.embeddings.create(input = [text], model=model).data[0].embedding\n",
    "\n",
    "df['ada_embedding'] =df['text'].apply(get_embedding)\n"
   ],
   "id": "f3b1885464c16cc1",
   "outputs": [],
   "execution_count": 11
  },
  {
   "metadata": {
    "ExecuteTime": {
     "end_time": "2024-06-11T15:46:12.149363Z",
     "start_time": "2024-06-11T15:46:12.146317Z"
    }
   },
   "cell_type": "code",
   "source": [
    "def distances_from_embeddings(embedding1, embeddings2, distance_metric=\"cosine\"):\n",
    "    \"\"\"\n",
    "    Function to compute distances between two sets of embeddings.\n",
    "    \"\"\"\n",
    "    distances = []\n",
    "    for embedding2 in embeddings2:\n",
    "        # Compute cosine distance between embeddings\n",
    "        distance = np.dot(embedding1, embedding2) / (np.linalg.norm(embedding1) * np.linalg.norm(embedding2))\n",
    "        distances.append(distance)\n",
    "    return distances\n",
    "\n",
    "def get_rows_sorted_by_relevance(question, df):\n",
    "    \"\"\"\n",
    "    Function that takes in a question string and a dataframe containing\n",
    "    rows of text and associated embeddings, and returns that dataframe\n",
    "    sorted from least to most relevant for that question\n",
    "    \"\"\"\n",
    "    # Get embeddings for the question text\n",
    "    question_embedding = get_embedding(question)\n",
    "    \n",
    "    # Compute cosine distances between question embedding and embeddings in the DataFrame\n",
    "    distances = distances_from_embeddings(question_embedding, df[\"ada_embedding\"].values)\n",
    "    \n",
    "    # Make a copy of the DataFrame and add a \"distances\" column\n",
    "    df_copy = df.copy()\n",
    "    df_copy[\"distances\"] = distances\n",
    "    \n",
    "    # Sort the copied DataFrame by the distances and return it\n",
    "    # (shorter distance = more relevant so we sort in ascending order)\n",
    "    df_copy.sort_values(\"distances\", ascending=False, inplace=True)\n",
    "    return df_copy"
   ],
   "id": "caa87fbea65567cb",
   "outputs": [],
   "execution_count": 12
  },
  {
   "metadata": {
    "ExecuteTime": {
     "end_time": "2024-06-11T15:46:23.101276Z",
     "start_time": "2024-06-11T15:46:22.592133Z"
    }
   },
   "cell_type": "code",
   "source": "get_rows_sorted_by_relevance(\"When did Russia invade Ukraine?\", df)",
   "id": "9f1be85c9f1d2d49",
   "outputs": [
    {
     "data": {
      "text/plain": [
       "                                                  text  \\\n",
       "195  October 8 – Russian invasion of Ukraine: An ex...   \n",
       "178  September 21 – Russian invasion of Ukraine: Fo...   \n",
       "51    – Russian invasion of Ukraine: Russia capture...   \n",
       "49    – Russian invasion of Ukraine: In an emergenc...   \n",
       "205   – Russian invasion of Ukraine: In response to...   \n",
       "..                                                 ...   \n",
       "124   – The second round of the 2022 legislative el...   \n",
       "244  December 31 – Former Pope Benedict XVI dies at...   \n",
       "214   – 2022 Danish general election: A bloc of lef...   \n",
       "80    – The second round of voting of the 2022 Cost...   \n",
       "243  December 29 – Brazilian football legend Pelé d...   \n",
       "\n",
       "                                         ada_embedding  distances  \n",
       "195  [-0.02893516793847084, 0.04713600128889084, 0....   0.641116  \n",
       "178  [-0.0550961047410965, 0.018628481775522232, 0....   0.633076  \n",
       "51   [-0.03445199504494667, 0.004404640290886164, 0...   0.598650  \n",
       "49   [-0.05222255736589432, 0.016713468357920647, 0...   0.598050  \n",
       "205  [-0.08906283974647522, 0.022125042974948883, 0...   0.586130  \n",
       "..                                                 ...        ...  \n",
       "124  [-0.014334593899548054, 0.0034270952455699444,...   0.004799  \n",
       "244  [-0.011237189173698425, -0.03360778093338013, ...   0.004087  \n",
       "214  [-0.015717869624495506, -0.002710068365558982,...  -0.003869  \n",
       "80   [0.03581348434090614, -0.021336117759346962, 0...  -0.005311  \n",
       "243  [0.04175897687673569, -0.005473892670124769, -...  -0.041608  \n",
       "\n",
       "[207 rows x 3 columns]"
      ],
      "text/html": [
       "<div>\n",
       "<style scoped>\n",
       "    .dataframe tbody tr th:only-of-type {\n",
       "        vertical-align: middle;\n",
       "    }\n",
       "\n",
       "    .dataframe tbody tr th {\n",
       "        vertical-align: top;\n",
       "    }\n",
       "\n",
       "    .dataframe thead th {\n",
       "        text-align: right;\n",
       "    }\n",
       "</style>\n",
       "<table border=\"1\" class=\"dataframe\">\n",
       "  <thead>\n",
       "    <tr style=\"text-align: right;\">\n",
       "      <th></th>\n",
       "      <th>text</th>\n",
       "      <th>ada_embedding</th>\n",
       "      <th>distances</th>\n",
       "    </tr>\n",
       "  </thead>\n",
       "  <tbody>\n",
       "    <tr>\n",
       "      <th>195</th>\n",
       "      <td>October 8 – Russian invasion of Ukraine: An ex...</td>\n",
       "      <td>[-0.02893516793847084, 0.04713600128889084, 0....</td>\n",
       "      <td>0.641116</td>\n",
       "    </tr>\n",
       "    <tr>\n",
       "      <th>178</th>\n",
       "      <td>September 21 – Russian invasion of Ukraine: Fo...</td>\n",
       "      <td>[-0.0550961047410965, 0.018628481775522232, 0....</td>\n",
       "      <td>0.633076</td>\n",
       "    </tr>\n",
       "    <tr>\n",
       "      <th>51</th>\n",
       "      <td>– Russian invasion of Ukraine: Russia capture...</td>\n",
       "      <td>[-0.03445199504494667, 0.004404640290886164, 0...</td>\n",
       "      <td>0.598650</td>\n",
       "    </tr>\n",
       "    <tr>\n",
       "      <th>49</th>\n",
       "      <td>– Russian invasion of Ukraine: In an emergenc...</td>\n",
       "      <td>[-0.05222255736589432, 0.016713468357920647, 0...</td>\n",
       "      <td>0.598050</td>\n",
       "    </tr>\n",
       "    <tr>\n",
       "      <th>205</th>\n",
       "      <td>– Russian invasion of Ukraine: In response to...</td>\n",
       "      <td>[-0.08906283974647522, 0.022125042974948883, 0...</td>\n",
       "      <td>0.586130</td>\n",
       "    </tr>\n",
       "    <tr>\n",
       "      <th>...</th>\n",
       "      <td>...</td>\n",
       "      <td>...</td>\n",
       "      <td>...</td>\n",
       "    </tr>\n",
       "    <tr>\n",
       "      <th>124</th>\n",
       "      <td>– The second round of the 2022 legislative el...</td>\n",
       "      <td>[-0.014334593899548054, 0.0034270952455699444,...</td>\n",
       "      <td>0.004799</td>\n",
       "    </tr>\n",
       "    <tr>\n",
       "      <th>244</th>\n",
       "      <td>December 31 – Former Pope Benedict XVI dies at...</td>\n",
       "      <td>[-0.011237189173698425, -0.03360778093338013, ...</td>\n",
       "      <td>0.004087</td>\n",
       "    </tr>\n",
       "    <tr>\n",
       "      <th>214</th>\n",
       "      <td>– 2022 Danish general election: A bloc of lef...</td>\n",
       "      <td>[-0.015717869624495506, -0.002710068365558982,...</td>\n",
       "      <td>-0.003869</td>\n",
       "    </tr>\n",
       "    <tr>\n",
       "      <th>80</th>\n",
       "      <td>– The second round of voting of the 2022 Cost...</td>\n",
       "      <td>[0.03581348434090614, -0.021336117759346962, 0...</td>\n",
       "      <td>-0.005311</td>\n",
       "    </tr>\n",
       "    <tr>\n",
       "      <th>243</th>\n",
       "      <td>December 29 – Brazilian football legend Pelé d...</td>\n",
       "      <td>[0.04175897687673569, -0.005473892670124769, -...</td>\n",
       "      <td>-0.041608</td>\n",
       "    </tr>\n",
       "  </tbody>\n",
       "</table>\n",
       "<p>207 rows × 3 columns</p>\n",
       "</div>"
      ]
     },
     "execution_count": 13,
     "metadata": {},
     "output_type": "execute_result"
    }
   ],
   "execution_count": 13
  },
  {
   "metadata": {
    "ExecuteTime": {
     "end_time": "2024-06-11T15:47:08.274665Z",
     "start_time": "2024-06-11T15:47:08.247543Z"
    }
   },
   "cell_type": "code",
   "source": [
    "import tiktoken\n",
    "\n",
    "def create_prompt(question, df, max_token_count):\n",
    "    \"\"\"\n",
    "    Given a question and a dataframe containing rows of text and their\n",
    "    embeddings, return a text prompt to send to a Completion model\n",
    "    \"\"\"\n",
    "    # Create a tokenizer that is designed to align with our embeddings\n",
    "    tokenizer = tiktoken.get_encoding(\"cl100k_base\")\n",
    "    \n",
    "    # Count the number of tokens in the prompt template and question\n",
    "    prompt_template = \"\"\"\n",
    "Answer the question based on the context below, and if the question\n",
    "can't be answered based on the context, say \"I don't know\"\n",
    "\n",
    "Context: \n",
    "\n",
    "{}\n",
    "\n",
    "---\n",
    "\n",
    "Question: {}\n",
    "Answer:\"\"\"\n",
    "    \n",
    "    current_token_count = len(tokenizer.encode(prompt_template)) + \\\n",
    "                            len(tokenizer.encode(question))\n",
    "    \n",
    "    context = []\n",
    "    for text in get_rows_sorted_by_relevance(question, df)[\"text\"].values:\n",
    "        \n",
    "        # Increase the counter based on the number of tokens in this row\n",
    "        text_token_count = len(tokenizer.encode(text))\n",
    "        current_token_count += text_token_count\n",
    "        \n",
    "        # Add the row of text to the list if we haven't exceeded the max\n",
    "        if current_token_count <= max_token_count:\n",
    "            context.append(text)\n",
    "        else:\n",
    "            break\n",
    "\n",
    "    return prompt_template.format(\"\\n\\n###\\n\\n\".join(context), question)"
   ],
   "id": "6982207686f3daba",
   "outputs": [],
   "execution_count": 14
  },
  {
   "metadata": {
    "ExecuteTime": {
     "end_time": "2024-06-11T15:47:29.052362Z",
     "start_time": "2024-06-11T15:47:20.018515Z"
    }
   },
   "cell_type": "code",
   "source": "print(create_prompt(\"When did Russia invade Ukraine?\", df, 200))",
   "id": "b8d34587c1d83ca3",
   "outputs": [
    {
     "name": "stdout",
     "output_type": "stream",
     "text": [
      "\n",
      "Answer the question based on the context below, and if the question\n",
      "can't be answered based on the context, say \"I don't know\"\n",
      "\n",
      "Context: \n",
      "\n",
      "October 8 – Russian invasion of Ukraine: An explosion occurs on the Crimean Bridge connecting Crimea and Russia, killing three and causing a partial collapse of the only road bridge between the Crimean Peninsula and the Russian mainland. Two days later, retaliatory missile strikes are conducted by Russia across Ukraine, the most widespread since the start of the invasion, notably including attacks on Kyiv.\n",
      "\n",
      "###\n",
      "\n",
      "September 21 – Russian invasion of Ukraine: Following a major counteroffensive by Ukraine in the east of the country, Putin announces a partial mobilisation of Russia and threatens nuclear retaliation, saying \"this is not a bluff\".\n",
      "\n",
      "---\n",
      "\n",
      "Question: When did Russia invade Ukraine?\n",
      "Answer:\n"
     ]
    }
   ],
   "execution_count": 15
  },
  {
   "metadata": {
    "ExecuteTime": {
     "end_time": "2024-06-11T15:47:42.562817Z",
     "start_time": "2024-06-11T15:47:42.560626Z"
    }
   },
   "cell_type": "code",
   "source": [
    "COMPLETION_MODEL_NAME = \"gpt-3.5-turbo-instruct\"\n",
    "\n",
    "def answer_question(\n",
    "    question, df, max_prompt_tokens=1800, max_answer_tokens=150\n",
    "):\n",
    "    \"\"\"\n",
    "    Given a question, a dataframe containing rows of text, and a maximum\n",
    "    number of desired tokens in the prompt and response, return the\n",
    "    answer to the question according to an OpenAI Completion model\n",
    "    \n",
    "    If the model produces an error, return an empty string\n",
    "    \"\"\"\n",
    "    \n",
    "    prompt = create_prompt(question, df, max_prompt_tokens)\n",
    "    \n",
    "    try:\n",
    "        response = openai.completions.create(\n",
    "            model=COMPLETION_MODEL_NAME,\n",
    "            prompt=prompt,\n",
    "            max_tokens=max_answer_tokens\n",
    "        )\n",
    "        return response.choices[0].text\n",
    "    except Exception as e:\n",
    "        print(e)\n",
    "        return \"\""
   ],
   "id": "619571ca04186c40",
   "outputs": [],
   "execution_count": 16
  },
  {
   "metadata": {
    "ExecuteTime": {
     "end_time": "2024-06-11T15:47:58.361046Z",
     "start_time": "2024-06-11T15:47:55.871947Z"
    }
   },
   "cell_type": "code",
   "source": [
    "custom_ukraine_answer = answer_question(\"When did Russia invade Ukraine?\", df)\n",
    "print(custom_ukraine_answer)"
   ],
   "id": "f8e8125ceebef74d",
   "outputs": [
    {
     "name": "stdout",
     "output_type": "stream",
     "text": [
      " It is difficult to determine the exact date of Russia's invasion of Ukraine based on the given context, as the events span the entire year of 2022. However, it is mentioned that the \"Russian invasion of Ukraine\" occurred multiple times throughout the year, with significant events happening on April 18, February 21-24, September 27, and other specific dates.\n"
     ]
    }
   ],
   "execution_count": 17
  },
  {
   "metadata": {},
   "cell_type": "code",
   "outputs": [],
   "execution_count": null,
   "source": "",
   "id": "72d0f941f904e4f4"
  }
 ],
 "metadata": {
  "kernelspec": {
   "display_name": "Python 3",
   "language": "python",
   "name": "python3"
  },
  "language_info": {
   "codemirror_mode": {
    "name": "ipython",
    "version": 2
   },
   "file_extension": ".py",
   "mimetype": "text/x-python",
   "name": "python",
   "nbconvert_exporter": "python",
   "pygments_lexer": "ipython2",
   "version": "2.7.6"
  }
 },
 "nbformat": 4,
 "nbformat_minor": 5
}
